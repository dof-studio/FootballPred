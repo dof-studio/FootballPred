{
 "cells": [
  {
   "cell_type": "markdown",
   "metadata": {},
   "source": [
    "## Proposed Neural Network Architecture"
   ]
  },
  {
   "cell_type": "markdown",
   "metadata": {},
   "source": [
    "`Version Control: 0.0.1`"
   ]
  },
  {
   "cell_type": "code",
   "execution_count": 1,
   "metadata": {
    "execution": {
     "iopub.execute_input": "2025-05-14T05:46:59.812453Z",
     "iopub.status.busy": "2025-05-14T05:46:59.811977Z",
     "iopub.status.idle": "2025-05-14T05:46:59.818417Z",
     "shell.execute_reply": "2025-05-14T05:46:59.817573Z",
     "shell.execute_reply.started": "2025-05-14T05:46:59.812432Z"
    },
    "trusted": true
   },
   "outputs": [],
   "source": [
    "__VERSION__ = \"0.0.1\""
   ]
  },
  {
   "cell_type": "markdown",
   "metadata": {},
   "source": [
    "`Prep: Libraries Used`"
   ]
  },
  {
   "cell_type": "code",
   "execution_count": 1,
   "metadata": {
    "execution": {
     "iopub.execute_input": "2025-05-14T06:44:28.675561Z",
     "iopub.status.busy": "2025-05-14T06:44:28.675286Z",
     "iopub.status.idle": "2025-05-14T06:44:28.681810Z",
     "shell.execute_reply": "2025-05-14T06:44:28.681087Z",
     "shell.execute_reply.started": "2025-05-14T06:44:28.675541Z"
    },
    "trusted": true
   },
   "outputs": [],
   "source": [
    "# Environment related libraries\n",
    "import io\n",
    "import os\n",
    "import warnings"
   ]
  },
  {
   "cell_type": "code",
   "execution_count": 2,
   "metadata": {
    "execution": {
     "iopub.execute_input": "2025-05-14T06:44:29.821267Z",
     "iopub.status.busy": "2025-05-14T06:44:29.820827Z",
     "iopub.status.idle": "2025-05-14T06:44:29.924496Z",
     "shell.execute_reply": "2025-05-14T06:44:29.923798Z",
     "shell.execute_reply.started": "2025-05-14T06:44:29.821244Z"
    },
    "trusted": true
   },
   "outputs": [],
   "source": [
    "# Web related libraries\n",
    "import requests\n",
    "from requests.packages.urllib3.exceptions import InsecureRequestWarning"
   ]
  },
  {
   "cell_type": "code",
   "execution_count": 3,
   "metadata": {
    "execution": {
     "iopub.execute_input": "2025-05-14T06:44:31.315489Z",
     "iopub.status.busy": "2025-05-14T06:44:31.315160Z",
     "iopub.status.idle": "2025-05-14T06:44:31.566077Z",
     "shell.execute_reply": "2025-05-14T06:44:31.565581Z",
     "shell.execute_reply.started": "2025-05-14T06:44:31.315465Z"
    },
    "trusted": true
   },
   "outputs": [],
   "source": [
    "# Data related libraries\n",
    "import math\n",
    "import numpy as np\n",
    "import pandas as pd"
   ]
  },
  {
   "cell_type": "code",
   "execution_count": 5,
   "metadata": {
    "execution": {
     "iopub.execute_input": "2025-05-14T06:44:34.097040Z",
     "iopub.status.busy": "2025-05-14T06:44:34.096324Z",
     "iopub.status.idle": "2025-05-14T06:44:34.100297Z",
     "shell.execute_reply": "2025-05-14T06:44:34.099634Z",
     "shell.execute_reply.started": "2025-05-14T06:44:34.097017Z"
    },
    "trusted": true
   },
   "outputs": [],
   "source": [
    "# Type related libraries\n",
    "from typing import Dict, List, Tuple, Any"
   ]
  },
  {
   "cell_type": "code",
   "execution_count": 7,
   "metadata": {
    "execution": {
     "iopub.execute_input": "2025-05-14T06:45:08.131276Z",
     "iopub.status.busy": "2025-05-14T06:45:08.130670Z",
     "iopub.status.idle": "2025-05-14T06:45:08.135067Z",
     "shell.execute_reply": "2025-05-14T06:45:08.134253Z",
     "shell.execute_reply.started": "2025-05-14T06:45:08.131251Z"
    },
    "trusted": true
   },
   "outputs": [],
   "source": [
    "# Deep Neural Network related libraries\n",
    "import torch\n",
    "import torch.nn as nn\n",
    "import torch.optim as optim\n",
    "from torch.utils.data import DataLoader, TensorDataset"
   ]
  },
  {
   "cell_type": "code",
   "execution_count": 8,
   "metadata": {
    "execution": {
     "iopub.execute_input": "2025-05-14T06:45:10.945793Z",
     "iopub.status.busy": "2025-05-14T06:45:10.945279Z",
     "iopub.status.idle": "2025-05-14T06:45:11.529601Z",
     "shell.execute_reply": "2025-05-14T06:45:11.528842Z",
     "shell.execute_reply.started": "2025-05-14T06:45:10.945768Z"
    },
    "trusted": true
   },
   "outputs": [],
   "source": [
    "# Metrics related libraries\n",
    "from sklearn.metrics import accuracy_score, f1_score, roc_auc_score, precision_score"
   ]
  },
  {
   "cell_type": "code",
   "execution_count": 9,
   "metadata": {
    "execution": {
     "iopub.execute_input": "2025-05-14T06:45:20.098850Z",
     "iopub.status.busy": "2025-05-14T06:45:20.098173Z",
     "iopub.status.idle": "2025-05-14T06:45:20.111773Z",
     "shell.execute_reply": "2025-05-14T06:45:20.110724Z",
     "shell.execute_reply.started": "2025-05-14T06:45:20.098827Z"
    },
    "trusted": true
   },
   "outputs": [],
   "source": [
    "# Python File dumper\n",
    "# version 0.0.1.2 revesion 250328\n",
    "\n",
    "import gzip\n",
    "import lzma\n",
    "import pickle\n",
    "from typing import Any\n",
    "\n",
    "# Kompress can be:\n",
    "#  gzip\n",
    "#  lzma\n",
    "\n",
    "def save(obj: Any, filename: str, *, kompress: Any = None, protocol: int | None = None, **kwargs):\n",
    "    \"\"\"\n",
    "    Save a Python object to a file using pickle.\n",
    "    Directly save without wrapping.\n",
    "    \"\"\"\n",
    "    # Uncompress\n",
    "    if kompress is None:\n",
    "        with open(filename, 'wb') as f:\n",
    "            pickle.dump(obj, f, protocol = protocol)\n",
    "    # Compress\n",
    "    else:\n",
    "        with kompress.open(filename, 'wb', **kwargs) as f:\n",
    "            pickle.dump(obj, f, protocol = protocol)\n",
    "            \n",
    "def dump(obj: Any, filename: str, *, kompress: Any = None, protocol: int | None = None, **kwargs):\n",
    "    \"\"\"\n",
    "    Save a Python object to a file using pickle.\n",
    "    Dump with wrapper and check.\n",
    "    \"\"\"\n",
    "    wrapper = {}\n",
    "    wrapper[\"~attr~\"] = \"~dump~\"\n",
    "    wrapper[\"~hash~\"] = str(hash(obj))\n",
    "    wrapper[\"data\"] = obj\n",
    "    \n",
    "    # Uncompress\n",
    "    if kompress is None:\n",
    "        with open(filename, 'wb') as f:\n",
    "            pickle.dump(wrapper, f, protocol = protocol)\n",
    "    # Compress\n",
    "    else:\n",
    "        with kompress.open(filename, 'wb', **kwargs) as f:\n",
    "            pickle.dump(obj, f, protocol = protocol)\n",
    "\n",
    "def load(filename: str, *, kompress: Any = None) -> Any:\n",
    "    \"\"\"\n",
    "    Load a Python object from a pickle file.\n",
    "    Generally loading. Try to unwrap if possible\n",
    "    \n",
    "    Exception:\n",
    "        Throw a ValueError when in the dumping mode and failed to\n",
    "        pass the hash test.\n",
    "    \"\"\"\n",
    "    # Uncompress\n",
    "    if kompress is None:\n",
    "        with open(filename, 'rb') as f:\n",
    "            obj = pickle.load(f)\n",
    "    else:\n",
    "        with kompress.open(filename, 'rb') as f:\n",
    "            obj = pickle.load(f)\n",
    "    \n",
    "    # No need to unwrap\n",
    "    if isinstance(obj, dict) == False:\n",
    "        return obj\n",
    "    elif isinstance(obj, dict) == True and obj.get(\"~attr~\", None) is None:\n",
    "        return obj\n",
    "    \n",
    "    # Need to unwrap\n",
    "    if isinstance(obj, dict) == True and obj.get(\"~attr~\", None) == \"~dump~\":\n",
    "        if obj.get(\"~hash~\", None) is None:\n",
    "            raise ValueError(\"Corrupted dumpped file. Hash attribute has Nonetype.\")\n",
    "        elif isinstance(obj.get(\"~hash~\", None), str) == False:\n",
    "            raise ValueError(\"Corrupted dumpped file. Hash attribute has Non-string type.\")\n",
    "        if obj.get(\"data\", None) is None:\n",
    "            raise ValueError(\"Corrupted dumpped file. Data attribute is Nonetype.\")\n",
    "        if obj.get(\"~hash~\", None) != str(hash(obj.get(\"data\"))):\n",
    "            raise ValueError(\"Corrupted dumpped file. Data hash mismatched.\")\n",
    "        return obj[\"data\"] \n",
    "    \n",
    "    else:\n",
    "        return obj\n"
   ]
  },
  {
   "cell_type": "code",
   "execution_count": 10,
   "metadata": {
    "execution": {
     "iopub.execute_input": "2025-05-14T06:45:23.366987Z",
     "iopub.status.busy": "2025-05-14T06:45:23.366369Z",
     "iopub.status.idle": "2025-05-14T06:45:23.369967Z",
     "shell.execute_reply": "2025-05-14T06:45:23.369385Z",
     "shell.execute_reply.started": "2025-05-14T06:45:23.366964Z"
    },
    "trusted": true
   },
   "outputs": [],
   "source": [
    "# Disable warnings\n",
    "warnings.filterwarnings('ignore')"
   ]
  },
  {
   "cell_type": "markdown",
   "metadata": {},
   "source": [
    "`Section: Load the V3_2 Augmentted Splited Training Data`"
   ]
  },
  {
   "cell_type": "code",
   "execution_count": 10,
   "metadata": {},
   "outputs": [],
   "source": [
    "# Load the gzip augmented, splited training data\n",
    "\n",
    "(X_spl_train, X_spl_test, y_spl_train, y_spl_test) = load(\"./splitready_v3_2_Aug(2821)_train.gz.bin\", kompress = gzip)"
   ]
  },
  {
   "cell_type": "code",
   "execution_count": 11,
   "metadata": {},
   "outputs": [
    {
     "data": {
      "text/plain": [
       "(66436, 2, 53, 307)"
      ]
     },
     "execution_count": 11,
     "metadata": {},
     "output_type": "execute_result"
    }
   ],
   "source": [
    "X_spl_train.shape"
   ]
  },
  {
   "cell_type": "code",
   "execution_count": 312,
   "metadata": {
    "execution": {
     "iopub.execute_input": "2025-05-14T08:03:05.169589Z",
     "iopub.status.busy": "2025-05-14T08:03:05.169277Z",
     "iopub.status.idle": "2025-05-14T08:03:15.288414Z",
     "shell.execute_reply": "2025-05-14T08:03:15.287832Z",
     "shell.execute_reply.started": "2025-05-14T08:03:05.169568Z"
    },
    "trusted": true
   },
   "outputs": [],
   "source": [
    "# Alt: Load it from huggingface url\n",
    "\n",
    "import pickle\n",
    "import requests\n",
    "import io\n",
    "\n",
    "url = \"https://huggingface.co/datasets/bh2821/soccer_pred/resolve/main/binary/processed_train_nonaugmented_v3_2.gz.bin\"\n",
    "response = requests.get(url)\n",
    "(X, y) = load(io.BytesIO(response.content), kompress=gzip)\n",
    "\n",
    "from sklearn import model_selection\n",
    "\n",
    "X_spl_train, X_spl_test, y_spl_train, y_spl_test = model_selection.train_test_split(X, y, train_size=0.8, random_state=2821)"
   ]
  },
  {
   "cell_type": "code",
   "execution_count": 575,
   "metadata": {
    "execution": {
     "iopub.execute_input": "2025-05-14T08:33:52.784742Z",
     "iopub.status.busy": "2025-05-14T08:33:52.784145Z",
     "iopub.status.idle": "2025-05-14T08:34:03.444815Z",
     "shell.execute_reply": "2025-05-14T08:34:03.444247Z",
     "shell.execute_reply.started": "2025-05-14T08:33:52.784712Z"
    },
    "trusted": true
   },
   "outputs": [],
   "source": [
    "# Augment if not yet\n",
    "\n",
    "# Create augmented data for training\n",
    "# 3. Future: Enhanced samples:\n",
    "# 1. The results are swapped after the host and guest are swapped,\n",
    "# 2. Players in the same position can be randomly mixed\n",
    "\n",
    "def augment_match_dataset_v3_2(X, y=None,\n",
    "        *,\n",
    "        swap_teams: bool = True,\n",
    "        shuffle_positions: bool = True,\n",
    "        n_row_shuffles: int = 2,\n",
    "        include_shuffled_swapped: bool = True,\n",
    "        random_state: int | None = None,\n",
    "):\n",
    "    \"\"\"\n",
    "    Data‑augmentation for tensors shaped (n_matches, 2, 53, W).\n",
    "\n",
    "    Parameters\n",
    "    ----------\n",
    "    X : ndarray\n",
    "        Original tensor from `preprocess_data_v3_2` with shape (N, 2, 53, W).\n",
    "    y : ndarray | None, default=None\n",
    "        1‑D label np.array.  Binary (0/1) or 3‑class (0‑draw, 1‑home‑win, 2‑away‑win)\n",
    "        are both handled automatically.  If ``None`` only `X_aug` is returned.\n",
    "    swap_teams : bool, default=True\n",
    "        When ``True`` adds a copy with the two team blocks [home, away]\n",
    "        swapped to [away, home].\n",
    "    shuffle_positions : bool, default=True\n",
    "        Randomly permute players *within* each position block\n",
    "        (size = 8 + 12 + 12 + 12 + 8 = 52) **without** touching the order of\n",
    "        the blocks themselves.\n",
    "    n_row_shuffles : int, default=1\n",
    "        How many independent shuffles to generate *per* original sample.\n",
    "    include_shuffled_swapped : bool, default=False\n",
    "        If ``True`` also produces a “swap‑then‑shuffle” version.\n",
    "    random_state : int | None\n",
    "        Seed for reproducibility.\n",
    "\n",
    "    Returns\n",
    "    -------\n",
    "    X_aug : ndarray, shape (N_aug, 2, 53, W)\n",
    "    y_aug : ndarray, shape (N_aug,)   (only if *y* supplied)\n",
    "    \"\"\"\n",
    "    rng = np.random.default_rng(random_state)\n",
    "\n",
    "    N, _, R, W = X.shape\n",
    "    assert R == 53, \"Expected second dimension size 53.\"\n",
    "\n",
    "    # indices (1–52) for each position group, **within a single 53‑row block**\n",
    "    pos_idx = {\n",
    "        \"GK\":  np.arange(1, 1 + 8),\n",
    "        \"DEF\": np.arange(9, 9 + 12),\n",
    "        \"MID\": np.arange(21, 21 + 12),\n",
    "        \"ATT\": np.arange(33, 33 + 12),\n",
    "        \"MIS\": np.arange(45, 45 + 8),\n",
    "    }\n",
    "\n",
    "    def _permute_positions(block: np.ndarray) -> np.ndarray:\n",
    "        \"\"\"Return a copy where rows inside each position are shuffled.\"\"\"\n",
    "        blk = block.copy()\n",
    "        for idx in pos_idx.values():\n",
    "            perm = rng.permutation(idx)\n",
    "            blk[idx] = blk[perm]\n",
    "        return blk\n",
    "\n",
    "    # Label‑swap helper\n",
    "    def _swap_label(lbl):\n",
    "        # binary {0,1}           → 1 - lbl\n",
    "        # tri‑class {0,1,2}      → 0 stays, 1 exchanges 2\n",
    "        if lbl in (0, 1):\n",
    "            return 1 - lbl\n",
    "        if lbl in (0, 1, 2):\n",
    "            return {0: 0, 1: 2, 2: 1}[lbl]\n",
    "        raise ValueError(\n",
    "            \"Unrecognised label value. \"\n",
    "            \"Pass `y=None` or handle labels outside this function.\"\n",
    "        )\n",
    "\n",
    "    # Build the augmented lists\n",
    "    X_out, y_out = [], []\n",
    "\n",
    "    for i in range(N):\n",
    "        x0 = X[i]\n",
    "\n",
    "        # 1. original\n",
    "        X_out.append(x0)\n",
    "        if y is not None:\n",
    "            y_out.append(y[i])\n",
    "\n",
    "        # 2. swapped home and away\n",
    "        if swap_teams:\n",
    "            x_sw = x0[::-1].copy()        # reverse first axis\n",
    "            X_out.append(x_sw)\n",
    "            if y is not None:\n",
    "                y_out.append(_swap_label(y[i]))\n",
    "\n",
    "        # 3. row‑shuffles\n",
    "        if shuffle_positions:\n",
    "            for _ in range(n_row_shuffles):\n",
    "                x_sh = x0.copy()\n",
    "                x_sh[0] = _permute_positions(x_sh[0])   # home\n",
    "                x_sh[1] = _permute_positions(x_sh[1])   # away\n",
    "                X_out.append(x_sh)\n",
    "                if y is not None:\n",
    "                    y_out.append(y[i])\n",
    "\n",
    "                # optionally shuffle the swapped version too\n",
    "                if swap_teams and include_shuffled_swapped:\n",
    "                    x_sws = x_sw.copy()\n",
    "                    x_sws[0] = _permute_positions(x_sws[0])\n",
    "                    x_sws[1] = _permute_positions(x_sws[1])\n",
    "                    X_out.append(x_sws)\n",
    "                    if y is not None:\n",
    "                        y_out.append(_swap_label(y[i]))\n",
    "\n",
    "    X_aug = np.stack(X_out, axis=0)\n",
    "    if y is None:\n",
    "        return X_aug,\n",
    "    return X_aug, np.asarray(y_out)\n",
    "\n",
    "X_spl_train, y_spl_train = augment_match_dataset_v3_2(X_spl_train, y_spl_train.flatten())"
   ]
  },
  {
   "cell_type": "code",
   "execution_count": 578,
   "metadata": {
    "execution": {
     "iopub.execute_input": "2025-05-14T08:34:21.818077Z",
     "iopub.status.busy": "2025-05-14T08:34:21.817572Z",
     "iopub.status.idle": "2025-05-14T08:34:21.821435Z",
     "shell.execute_reply": "2025-05-14T08:34:21.820635Z",
     "shell.execute_reply.started": "2025-05-14T08:34:21.818054Z"
    },
    "trusted": true
   },
   "outputs": [],
   "source": [
    "y_spl_train = y_spl_train.reshape([-1,1])"
   ]
  },
  {
   "cell_type": "markdown",
   "metadata": {},
   "source": [
    "`Section: Modeling - ResNet Image Structure V New`"
   ]
  },
  {
   "cell_type": "code",
   "execution_count": 9,
   "metadata": {
    "execution": {
     "iopub.execute_input": "2025-05-14T06:24:09.703466Z",
     "iopub.status.busy": "2025-05-14T06:24:09.702980Z",
     "iopub.status.idle": "2025-05-14T06:24:09.707248Z",
     "shell.execute_reply": "2025-05-14T06:24:09.706486Z",
     "shell.execute_reply.started": "2025-05-14T06:24:09.703444Z"
    },
    "trusted": true
   },
   "outputs": [],
   "source": [
    "import math\n",
    "import torch\n",
    "import torch.nn as nn\n",
    "import torch.nn.functional as F\n",
    "import torch.optim as optim\n",
    "from torch.utils.data import DataLoader, TensorDataset"
   ]
  },
  {
   "cell_type": "markdown",
   "metadata": {},
   "source": [
    "ResNet 50 Model with Interaction"
   ]
  },
  {
   "cell_type": "code",
   "execution_count": null,
   "metadata": {
    "_kg_hide-input": true,
    "execution": {
     "iopub.execute_input": "2025-05-14T06:46:17.481231Z",
     "iopub.status.busy": "2025-05-14T06:46:17.480975Z",
     "iopub.status.idle": "2025-05-14T06:46:17.493721Z",
     "shell.execute_reply": "2025-05-14T06:46:17.492993Z",
     "shell.execute_reply.started": "2025-05-14T06:46:17.481212Z"
    },
    "trusted": true
   },
   "outputs": [],
   "source": [
    "# Legacy Model, too many parameters\n",
    "\n",
    "class CBAM(nn.Module):\n",
    "    \"\"\"\n",
    "    Channel + Spatial attention (Woo et al. 2018).\n",
    "    \"\"\"\n",
    "    def __init__(self, channels, reduction=16, kernel_size=7):\n",
    "        super().__init__()\n",
    "        # Channel‑attention sub‑module\n",
    "        self.mlp = nn.Sequential(\n",
    "            nn.Linear(channels, channels // reduction, bias=False),\n",
    "            nn.LeakyReLU(True),\n",
    "            nn.Linear(channels // reduction, channels, bias=False)\n",
    "        )\n",
    "        # Spatial‑attention sub‑module\n",
    "        self.conv_spatial = nn.Conv2d(2, 1, kernel_size,\n",
    "                                      padding=kernel_size//2, bias=False)\n",
    "\n",
    "    def forward(self, x):\n",
    "        b, c, h, w = x.size()\n",
    "\n",
    "        # Channel attention\n",
    "        avg = F.adaptive_avg_pool2d(x, 1).view(b, c)\n",
    "        max_ = F.adaptive_max_pool2d(x, 1).view(b, c)\n",
    "        ch_att = torch.sigmoid(self.mlp(avg) + self.mlp(max_)).view(b, c, 1, 1)\n",
    "        x = x * ch_att                        # (B,C,H,W)\n",
    "\n",
    "        # Spatial attention\n",
    "        avg = torch.mean(x, dim=1, keepdim=True)          # (B,1,H,W)\n",
    "        max_, _ = torch.max(x, dim=1, keepdim=True)       # (B,1,H,W)\n",
    "        sp_att = torch.sigmoid(self.conv_spatial(torch.cat([avg, max_], 1)))\n",
    "        return x * sp_att\n",
    "\n",
    "\n",
    "class RowSelfAttention(nn.Module):\n",
    "    \"\"\"\n",
    "    Treat each row (team or player) as a token.  \n",
    "    Input: (B, C, R, C_)  -> tokens (R, B, C)  ->  output pooled to (B, C)\n",
    "    \"\"\"\n",
    "    def __init__(self, channels, n_heads=4, dropout=0.1):\n",
    "        super().__init__()\n",
    "        self.mha = nn.MultiheadAttention(embed_dim=channels,\n",
    "                                         num_heads=n_heads,\n",
    "                                         dropout=dropout,\n",
    "                                         batch_first=True)\n",
    "        self.norm = nn.LayerNorm(channels)\n",
    "    \n",
    "    def forward(self, x):                     # x: (B,C,R,C_)\n",
    "        x = F.adaptive_avg_pool2d(x, (x.size(2), 1)).squeeze(-1)  # (B,C,R)\n",
    "        x = x.permute(0, 2, 1)                # (B,R,C)\n",
    "        out, _ = self.mha(x, x, x)\n",
    "        return self.norm(out + x).mean(dim=1) # (B,C)\n",
    "\n",
    "# Bottleneck with CBAM\n",
    "class Bottleneck(nn.Module):\n",
    "    expansion = 4\n",
    "    \n",
    "    def __init__(self, in_ch, out_ch, stride=1, down=None, p=0.3):\n",
    "        super().__init__()\n",
    "        self.conv1 = nn.Conv2d(in_ch, out_ch, 1, bias=False)\n",
    "        self.bn1   = nn.BatchNorm2d(out_ch)\n",
    "        self.conv2 = nn.Conv2d(out_ch, out_ch, 3, stride,\n",
    "                               padding=1, bias=False)\n",
    "        self.bn2   = nn.BatchNorm2d(out_ch)\n",
    "        self.conv3 = nn.Conv2d(out_ch, out_ch*self.expansion, 1, bias=False)\n",
    "        self.bn3   = nn.BatchNorm2d(out_ch*self.expansion)\n",
    "        self.cbam  = CBAM(out_ch*self.expansion)\n",
    "        self.relu  = nn.LeakyReLU(True)\n",
    "        self.drop  = nn.Dropout2d(p)\n",
    "        self.down  = down\n",
    "    \n",
    "    def forward(self, x):\n",
    "        idt = x\n",
    "        out = self.drop(self.relu(self.bn1(self.conv1(x))))\n",
    "        out = self.drop(self.relu(self.bn2(self.conv2(out))))\n",
    "        out = self.bn3(self.conv3(out))\n",
    "        if self.down is not None:\n",
    "            idt = self.down(x)\n",
    "        out = self.cbam(out) + idt\n",
    "        return self.relu(out)\n",
    "\n",
    "# ResNetPanelInteraction\n",
    "class ResNetPanelInteraction(nn.Module):\n",
    "    \"\"\"\n",
    "    * 2 raw panels -> + diff -> + product -> 4 channels.\n",
    "    * ResNet‑50 depth (3‑4‑6‑3) bottlenecks with CBAM in every block.\n",
    "    * Row‑wise Transformer before classifier.\n",
    "    \"\"\"\n",
    "    def __init__(self, num_classes=3, base_channels=64, p=0.2):\n",
    "        super().__init__()\n",
    "        self.stem = nn.Sequential(\n",
    "            nn.Conv2d(4, base_channels, 7, 2, 3, bias=False),\n",
    "            nn.BatchNorm2d(base_channels),\n",
    "            nn.LeakyReLU(True),\n",
    "            nn.MaxPool2d(3, 2, 1)\n",
    "        )\n",
    "        # Residual stages \n",
    "        self.in_ch = base_channels\n",
    "        self.layer1 = self._make_layer(16,  3, p)\n",
    "        self.layer2 = self._make_layer(32,  4, p, stride=2)\n",
    "        self.layer3 = self._make_layer(64,  6, p, stride=2)\n",
    "        self.layer4 = self._make_layer(128, 3, p, stride=2)\n",
    "\n",
    "        # Row‑level attention and head \n",
    "        self.row_att  = RowSelfAttention(128*Bottleneck.expansion)\n",
    "        self.drop     = nn.Dropout(p)\n",
    "        self.fc       = nn.Linear(128*Bottleneck.expansion, num_classes)\n",
    "\n",
    "    def _make_layer(self, out_ch, blocks, p, stride=1):\n",
    "        down = None\n",
    "        if stride != 1 or self.in_ch != out_ch * Bottleneck.expansion:\n",
    "            down = nn.Sequential(\n",
    "                nn.Conv2d(self.in_ch, out_ch*Bottleneck.expansion,\n",
    "                          1, stride, bias=False),\n",
    "                nn.BatchNorm2d(out_ch*Bottleneck.expansion)\n",
    "            )\n",
    "        layers = [Bottleneck(self.in_ch, out_ch, stride, down, p)]\n",
    "        self.in_ch = out_ch * Bottleneck.expansion\n",
    "        for _ in range(1, blocks):\n",
    "            layers.append(Bottleneck(self.in_ch, out_ch, p=p))\n",
    "        return nn.Sequential(*layers)\n",
    "\n",
    "    def forward(self, x):\n",
    "        # Explicit panel interaction up‑front\n",
    "        diff = x[:, 0:1] - x[:, 1:2]          # (B,1,R,C)\n",
    "        prod = x[:, 0:1] * x[:, 1:2]          # (B,1,R,C)\n",
    "        x    = torch.cat([x, diff, prod], 1)  # (B,4,R,C)\n",
    "\n",
    "        x = self.stem(x)                  # (B, base, R/4, C/4)\n",
    "        x = self.layer1(x)                # (B, 64, ...)\n",
    "        x = self.layer2(x)\n",
    "        x = self.layer3(x)\n",
    "        x = self.layer4(x)                # (B, 512, r, c)\n",
    "\n",
    "        # Row‑wise self‑attention\n",
    "        x = self.row_att(x)               # (B,512)\n",
    "\n",
    "        return self.fc(self.drop(x))\n",
    "\n",
    "    def l1_penalty(self, lambda_):\n",
    "        return lambda_ * sum(p.abs().sum() for p in self.parameters())\n"
   ]
  },
  {
   "cell_type": "code",
   "execution_count": null,
   "metadata": {
    "execution": {
     "iopub.execute_input": "2025-05-14T06:46:22.811593Z",
     "iopub.status.busy": "2025-05-14T06:46:22.811058Z",
     "iopub.status.idle": "2025-05-14T06:46:22.819924Z",
     "shell.execute_reply": "2025-05-14T06:46:22.819140Z",
     "shell.execute_reply.started": "2025-05-14T06:46:22.811573Z"
    },
    "trusted": true
   },
   "outputs": [],
   "source": [
    "# Legacy Model, too many parameters\n",
    "\n",
    "# ResNetSimpleInteraction\n",
    "class ResNetSimpleInteraction(nn.Module):\n",
    "    def __init__(self, num_classes: int = 3, base_channels: int = 64, dropout_prob: float = 0.1):\n",
    "        super().__init__()\n",
    "\n",
    "        # 2 raw panels + difference + product -> 4 channels\n",
    "        self.stem = nn.Sequential(\n",
    "            nn.Conv2d(4, base_channels, kernel_size=7,\n",
    "                      stride=2, padding=3, bias=False),\n",
    "            nn.BatchNorm2d(base_channels),\n",
    "            nn.LeakyReLU(inplace=True),\n",
    "            nn.MaxPool2d(kernel_size=3, stride=2, padding=1)\n",
    "        )\n",
    "\n",
    "        # Bottleneck block 1\n",
    "        in_ch  = base_channels\n",
    "        out_ch = base_channels\n",
    "        # channels after expansion = out_ch * 4\n",
    "        down1 = nn.Sequential(\n",
    "            nn.Conv2d(in_ch, out_ch * Bottleneck.expansion,\n",
    "                      kernel_size=1, stride=1, bias=False),\n",
    "            nn.BatchNorm2d(out_ch * Bottleneck.expansion)\n",
    "        )\n",
    "        self.block1 = Bottleneck(\n",
    "            in_ch  = in_ch,\n",
    "            out_ch = out_ch,\n",
    "            stride = 1,\n",
    "            down   = down1,\n",
    "            p      = dropout_prob\n",
    "        )   \n",
    "\n",
    "        # Bottleneck block 2 (stride 2)\n",
    "        in_ch  = out_ch * Bottleneck.expansion             # 4·base\n",
    "        out_ch = base_channels * 2                         # 2·base\n",
    "        down2  = nn.Sequential(\n",
    "            nn.Conv2d(in_ch, out_ch * Bottleneck.expansion,\n",
    "                      kernel_size=1, stride=2, bias=False),\n",
    "            nn.BatchNorm2d(out_ch * Bottleneck.expansion)\n",
    "        )\n",
    "        self.block2 = Bottleneck(\n",
    "            in_ch  = in_ch,\n",
    "            out_ch = out_ch,\n",
    "            stride = 2,\n",
    "            down   = down2,\n",
    "            p      = dropout_prob\n",
    "        )  \n",
    "\n",
    "        final_channels = out_ch * Bottleneck.expansion      # 8·base\n",
    "\n",
    "        # Row‑wise Transformer head\n",
    "        self.row_att = RowSelfAttention(final_channels)\n",
    "        self.dropout = nn.Dropout(dropout_prob)\n",
    "        self.fc      = nn.Linear(final_channels, num_classes)\n",
    "\n",
    "    def forward(self, x: torch.Tensor) -> torch.Tensor:\n",
    "        # x: (B, 2, R, C)  – two related panels\n",
    "        diff = x[:, 0:1] - x[:, 1:2]           # (B,1,R,C)\n",
    "        prod = x[:, 0:1] * x[:, 1:2]           # (B,1,R,C)\n",
    "        x    = torch.cat([x, diff, prod], dim=1)  # (B,4,R,C)\n",
    "\n",
    "        x = self.stem(x)       # (B, base, R/4, C/4)\n",
    "        x = self.block1(x)\n",
    "        x = self.block2(x)     # (B, final_channels, r, c)\n",
    "\n",
    "        x = self.row_att(x)    # (B, final_channels)\n",
    "        x = self.dropout(x)\n",
    "        return self.fc(x)\n",
    "\n",
    "    def l1_penalty(self, lambda_val: float):\n",
    "        return lambda_val * sum(p.abs().sum() for p in self.parameters())"
   ]
  },
  {
   "cell_type": "code",
   "execution_count": null,
   "metadata": {
    "execution": {
     "iopub.execute_input": "2025-05-14T09:13:18.550643Z",
     "iopub.status.busy": "2025-05-14T09:13:18.549977Z",
     "iopub.status.idle": "2025-05-14T09:13:18.560642Z",
     "shell.execute_reply": "2025-05-14T09:13:18.559947Z",
     "shell.execute_reply.started": "2025-05-14T09:13:18.550619Z"
    },
    "trusted": true
   },
   "outputs": [],
   "source": [
    "# Proposed Architecture\n",
    "\n",
    "# Row‑wise self‑attention pooling simplified version\n",
    "class RowSelfAttentionSimple(nn.Module):\n",
    "    \"\"\"\n",
    "    Turns a (B, C, H, W) tensor into a (B, C) embedding by\n",
    "    attending *within each row* (H positions).\n",
    "    \"\"\"\n",
    "    def __init__(self, dim, heads=4, p=0.3):\n",
    "        super().__init__()\n",
    "        self.heads = heads\n",
    "        self.mha   = nn.MultiheadAttention(dim, heads, batch_first=True, dropout=p)\n",
    "        self.norm  = nn.LayerNorm(dim)\n",
    "\n",
    "    def forward(self, x):\n",
    "        B, C, H, W = x.shape\n",
    "        x = x.mean(-1)               # ↓ collapse columns → (B, C, H)\n",
    "        x = x.permute(0, 2, 1)       # (B, H, C) = sequence len H, embed C\n",
    "\n",
    "        attn_out, _ = self.mha(x, x, x)\n",
    "        x = self.norm(attn_out + x)  # residual & LN\n",
    "        return x.mean(1)             # global average over rows → (B, C)\n",
    "\n",
    "\n",
    "# Simpler CNN Baseline\n",
    "class SimplePanelCNN(nn.Module):\n",
    "    \"\"\"\n",
    "    • 4‑channel input (A, B, A–B, A·B)\n",
    "    • 3 Conv‑BN‑ReLU blocks (32‑, 64‑, 128‑channel)\n",
    "    • Row‑wise self‑attention pooling\n",
    "    • 1 FC classifier head\n",
    "    \"\"\"\n",
    "    def __init__(self, num_classes=3, base=32, p=0.3, heads=16):\n",
    "        super().__init__()\n",
    "\n",
    "        def block(in_ch, out_ch, pool):\n",
    "            layers = [\n",
    "                nn.Conv2d(in_ch, out_ch, 3, 1, 1, bias=False),\n",
    "                nn.BatchNorm2d(out_ch),\n",
    "                nn.LeakyReLU(inplace=True)\n",
    "            ]\n",
    "            if pool:\n",
    "                layers.append(nn.MaxPool2d(2))\n",
    "            return nn.Sequential(*layers)\n",
    "\n",
    "        self.stem = block(4,       base,       pool=True)   # ½ spatial\n",
    "        self.conv1 = block(base,   base*2,     pool=True)   # ¼ spatial\n",
    "        self.conv2 = block(base*2, base*4,     pool=False)  # ¼ spatial, deeper reps\n",
    "\n",
    "        self.row_att = RowSelfAttentionSimple(base*4, heads, p)\n",
    "        self.drop    = nn.Dropout(p)\n",
    "        self.fc      = nn.Linear(base*4, num_classes)\n",
    "\n",
    "    def forward(self, x):\n",
    "        # Explicit panel interaction (A, B, A–B, A·B)\n",
    "        diff = x[:, 0:1] - x[:, 1:2]\n",
    "        prod = x[:, 0:1] * x[:, 1:2]\n",
    "        x    = torch.cat([x, diff, prod], 1)        # (B, 4, H, W)\n",
    "\n",
    "        # Feature extractor\n",
    "        x = self.stem(x)\n",
    "        x = self.conv1(x)\n",
    "        x = self.conv2(x)\n",
    "\n",
    "        # Row‑wise attention pooling + classifier\n",
    "        x = self.row_att(x)                         # (B, C)\n",
    "        x = self.drop(x)\n",
    "        return self.fc(x)\n",
    "\n",
    "    def l1_penalty(self, lm):\n",
    "        return lm * sum(p.abs().sum() for p in self.parameters())\n"
   ]
  },
  {
   "cell_type": "code",
   "execution_count": null,
   "metadata": {
    "execution": {
     "iopub.execute_input": "2025-05-14T09:41:35.385080Z",
     "iopub.status.busy": "2025-05-14T09:41:35.384811Z",
     "iopub.status.idle": "2025-05-14T09:41:35.392211Z",
     "shell.execute_reply": "2025-05-14T09:41:35.391635Z",
     "shell.execute_reply.started": "2025-05-14T09:41:35.385059Z"
    },
    "trusted": true
   },
   "outputs": [],
   "source": [
    "# Simplest Benchmark\n",
    "\n",
    "class Simplest(nn.Module):\n",
    "\n",
    "    def __init__(self, num_classes: int = 3, base: int = 64, p: float = 0.3, num_layers: int = 1):\n",
    "        super().__init__()\n",
    "\n",
    "        self.seq_len   = 307          # W  (fixed in your data)\n",
    "        self.feat_dim  = 4 * 53       # C * H = 212\n",
    "        self.lstm      = nn.LSTM(input_size=self.feat_dim,\n",
    "                                 hidden_size=base,\n",
    "                                 num_layers=num_layers,\n",
    "                                 dropout=p if num_layers > 1 else 0.,\n",
    "                                 batch_first=True)        # (B, T, F)\n",
    "        self.drop      = nn.Dropout(p)\n",
    "        self.fc_out    = nn.Linear(base, num_classes)\n",
    "\n",
    "    def forward(self, x):\n",
    "\n",
    "        diff = x[:, 0:1] - x[:, 1:2]\n",
    "        prod = x[:, 0:1] * x[:, 1:2]\n",
    "        x    = torch.cat([x, diff, prod], 1)              # (B, 4, 53, 307)\n",
    "\n",
    "        B, C, H, W = x.shape                               # C=4, H=53, W=307\n",
    "        x = x.reshape(B, C * H, W)                         # (B, 212, 307)\n",
    "        x = x.transpose(1, 2)                              # (B, 307, 212)\n",
    "\n",
    "        _, (h_n, _) = self.lstm(x)                         # h_n: (num_layers, B, base)\n",
    "        emb = self.drop(h_n[-1])                           # last layer’s hidden state\n",
    "        logits = self.fc_out(emb)                          # (B, num_classes)\n",
    "        return logits\n",
    "\n",
    "    def l1_penalty(self, lm: float = 1e-4):\n",
    "        return lm * sum(p.abs().sum() for p in self.parameters())"
   ]
  },
  {
   "cell_type": "markdown",
   "metadata": {},
   "source": [
    "Trainer and Tester Utilities"
   ]
  },
  {
   "cell_type": "code",
   "execution_count": 19,
   "metadata": {
    "execution": {
     "iopub.execute_input": "2025-05-14T06:46:49.282383Z",
     "iopub.status.busy": "2025-05-14T06:46:49.281863Z",
     "iopub.status.idle": "2025-05-14T06:46:49.287839Z",
     "shell.execute_reply": "2025-05-14T06:46:49.287205Z",
     "shell.execute_reply.started": "2025-05-14T06:46:49.282363Z"
    },
    "trusted": true
   },
   "outputs": [],
   "source": [
    "# Model evaluating for resnet model\n",
    "def evaluate_model_resnet(model, test_loader, device):\n",
    "    model.eval()\n",
    "    correct, total = 0, 0\n",
    "    all_preds = []\n",
    "    all_labels = []\n",
    "    all_probs = []  # Store probabilities for ROC AUC\n",
    "\n",
    "    with torch.no_grad():\n",
    "        for inputs, labels in test_loader:\n",
    "            inputs, labels = inputs.to(device), labels.to(device)\n",
    "            \n",
    "            # If labels are one-hot encoded, convert to class indices.\n",
    "            if labels.ndim > 1 and labels.size(1) > 1:\n",
    "                labels = labels.argmax(dim=1)\n",
    "                \n",
    "            outputs = model(inputs)  # Raw logits\n",
    "            \n",
    "            # Convert logits to probabilities\n",
    "            probs = torch.nn.functional.softmax(outputs, dim=1)  # Get probabilities\n",
    "            _, predicted = torch.max(outputs, 1)  # Get predicted class index\n",
    "            \n",
    "            total += labels.size(0)\n",
    "            correct += (predicted == labels).sum().item()\n",
    "            \n",
    "            all_preds.extend(predicted.cpu().numpy())\n",
    "            all_labels.extend(labels.cpu().numpy())\n",
    "            all_probs.extend(probs.cpu().numpy())  # Store probabilities\n",
    "\n",
    "    accuracy = accuracy_score(all_labels, all_preds)\n",
    "    precision = precision_score(all_labels, all_preds, average=\"weighted\")\n",
    "\n",
    "    return all_preds, all_labels, accuracy, precision\n"
   ]
  },
  {
   "cell_type": "code",
   "execution_count": 20,
   "metadata": {
    "execution": {
     "iopub.execute_input": "2025-05-14T06:46:51.620241Z",
     "iopub.status.busy": "2025-05-14T06:46:51.619638Z",
     "iopub.status.idle": "2025-05-14T06:46:51.626909Z",
     "shell.execute_reply": "2025-05-14T06:46:51.626121Z",
     "shell.execute_reply.started": "2025-05-14T06:46:51.620222Z"
    },
    "trusted": true
   },
   "outputs": [],
   "source": [
    "# Model training for resnet model\n",
    "def train_model_resnet(model, train_loader, test_loader, criterion, optimizer, device, num_epochs=10, l1_lambda=1e-8):\n",
    "    model.train()\n",
    "    \n",
    "    for epoch in range(num_epochs):\n",
    "            model.train()\n",
    "            running_train_loss = 0.0\n",
    "            for inputs, labels in train_loader:\n",
    "                  # Labels must be long dtype\n",
    "                inputs, labels = inputs.to(device).float(), labels.to(device).long()\n",
    "                optimizer.zero_grad()\n",
    "                outputs = model(inputs)  # (batch_size, num_classes)\n",
    "                # Add l1 penalty\n",
    "                loss = criterion(outputs, labels.squeeze(1))\n",
    "                if hasattr(model, \"l1_penalty\"):\n",
    "                     loss += model.l1_penalty(l1_lambda)\n",
    "                # No need for one-hot encoding\n",
    "                loss.backward()\n",
    "                optimizer.step()\n",
    "                running_train_loss += loss.item()\n",
    "\n",
    "            avg_train_loss = running_train_loss / len(train_loader)\n",
    "\n",
    "            # Evaluate test loss\n",
    "            model.eval()\n",
    "            running_test_loss = 0.0\n",
    "            with torch.no_grad():\n",
    "                for inputs, labels in test_loader:\n",
    "                    inputs, labels = inputs.to(device).float(), labels.to(device).long()\n",
    "                    outputs = model(inputs)\n",
    "                    # No need to add l1 penality\n",
    "                    loss = criterion(outputs, labels.squeeze(1))\n",
    "                    running_test_loss += loss.item()\n",
    "\n",
    "            avg_test_loss = running_test_loss / len(test_loader)\n",
    "           \n",
    "            pred, lbs, acc, prec = evaluate_model_resnet(model, test_loader, device = device)\n",
    "            print(f\"Epoch [{epoch+1}/{num_epochs}] - Train Loss: {avg_train_loss:.6f} | Test Loss: {avg_test_loss:.6f} | Test Acc: {acc:.6f} | Test Prec: {prec:.6f}\")\n"
   ]
  },
  {
   "cell_type": "code",
   "execution_count": 608,
   "metadata": {
    "execution": {
     "iopub.execute_input": "2025-05-14T08:39:16.396812Z",
     "iopub.status.busy": "2025-05-14T08:39:16.396310Z",
     "iopub.status.idle": "2025-05-14T08:39:18.095022Z",
     "shell.execute_reply": "2025-05-14T08:39:18.094374Z",
     "shell.execute_reply.started": "2025-05-14T08:39:16.396793Z"
    },
    "trusted": true
   },
   "outputs": [],
   "source": [
    "device = \"cuda\"\n",
    "X_train_ts = torch.tensor(X_spl_train, dtype=torch.float32, device=device)\n",
    "X_test_ts = torch.tensor(X_spl_test, dtype=torch.float32, device=device)\n",
    "y_train_ts = torch.tensor(y_spl_train, dtype=torch.float32, device=device)\n",
    "y_test_ts = torch.tensor(y_spl_test, dtype=torch.float32, device=device)"
   ]
  },
  {
   "cell_type": "code",
   "execution_count": 609,
   "metadata": {
    "execution": {
     "iopub.execute_input": "2025-05-14T08:39:19.859137Z",
     "iopub.status.busy": "2025-05-14T08:39:19.858882Z",
     "iopub.status.idle": "2025-05-14T08:39:19.863496Z",
     "shell.execute_reply": "2025-05-14T08:39:19.862757Z",
     "shell.execute_reply.started": "2025-05-14T08:39:19.859120Z"
    },
    "trusted": true
   },
   "outputs": [],
   "source": [
    "# Create DataLoaders\n",
    "batch_size = 256\n",
    "train_dataset = TensorDataset(X_train_ts, y_train_ts)\n",
    "test_dataset = TensorDataset(X_test_ts, y_test_ts)\n",
    "train_loader = DataLoader(train_dataset, batch_size=batch_size, shuffle=True)\n",
    "test_loader = DataLoader(test_dataset, batch_size=batch_size, shuffle=True)\n"
   ]
  },
  {
   "cell_type": "code",
   "execution_count": null,
   "metadata": {
    "trusted": true
   },
   "outputs": [],
   "source": [
    "# Build and train the Model"
   ]
  },
  {
   "cell_type": "code",
   "execution_count": 23,
   "metadata": {
    "execution": {
     "iopub.execute_input": "2025-05-14T06:47:02.816879Z",
     "iopub.status.busy": "2025-05-14T06:47:02.816293Z",
     "iopub.status.idle": "2025-05-14T06:47:02.838543Z",
     "shell.execute_reply": "2025-05-14T06:47:02.837982Z",
     "shell.execute_reply.started": "2025-05-14T06:47:02.816857Z"
    },
    "trusted": true
   },
   "outputs": [],
   "source": [
    "# Create weights for unbalanced dataset\n",
    "weights = torch.tensor([1/0.35, 1/0.5, 1/0.15])\n",
    "weights = weights / weights.mean() \n",
    "weights = weights.to(device)"
   ]
  },
  {
   "cell_type": "code",
   "execution_count": 20,
   "metadata": {
    "execution": {
     "iopub.execute_input": "2025-05-13T23:42:35.515835Z",
     "iopub.status.busy": "2025-05-13T23:42:35.515262Z",
     "iopub.status.idle": "2025-05-13T23:42:38.271856Z",
     "shell.execute_reply": "2025-05-13T23:42:38.271230Z",
     "shell.execute_reply.started": "2025-05-13T23:42:35.515810Z"
    },
    "trusted": true
   },
   "outputs": [],
   "source": [
    "# Initialize Standard Model\n",
    "model = ResNetSimpleInteraction().to(device)\n",
    "criterion = nn.CrossEntropyLoss(label_smoothing=0.05, weight=weights)\n",
    "optimizer = optim.AdamW(model.parameters(), lr=0.001, weight_decay=0.0001)"
   ]
  },
  {
   "cell_type": "code",
   "execution_count": 743,
   "metadata": {
    "execution": {
     "iopub.execute_input": "2025-05-14T10:01:21.361644Z",
     "iopub.status.busy": "2025-05-14T10:01:21.361357Z",
     "iopub.status.idle": "2025-05-14T10:01:21.366605Z",
     "shell.execute_reply": "2025-05-14T10:01:21.365872Z",
     "shell.execute_reply.started": "2025-05-14T10:01:21.361621Z"
    },
    "trusted": true
   },
   "outputs": [],
   "source": [
    "# Alternative Simple Model\n",
    "model = SimplePanelCNN().to(device)\n",
    "criterion = nn.CrossEntropyLoss(label_smoothing=0.05, weight=weights)\n",
    "optimizer = optim.AdamW(model.parameters(), lr=0.001, weight_decay=0.0001)"
   ]
  },
  {
   "cell_type": "code",
   "execution_count": 722,
   "metadata": {
    "execution": {
     "iopub.execute_input": "2025-05-14T09:41:43.980650Z",
     "iopub.status.busy": "2025-05-14T09:41:43.980385Z",
     "iopub.status.idle": "2025-05-14T09:41:43.987249Z",
     "shell.execute_reply": "2025-05-14T09:41:43.986764Z",
     "shell.execute_reply.started": "2025-05-14T09:41:43.980633Z"
    },
    "trusted": true
   },
   "outputs": [],
   "source": [
    "# Alternative Simplest Model without Weights\n",
    "model = Simplest().to(device)\n",
    "criterion = nn.CrossEntropyLoss(label_smoothing=0.05)\n",
    "optimizer = optim.AdamW(model.parameters(), lr=0.001, weight_decay=0.0001)"
   ]
  },
  {
   "cell_type": "code",
   "execution_count": 741,
   "metadata": {
    "execution": {
     "iopub.execute_input": "2025-05-14T10:00:50.328464Z",
     "iopub.status.busy": "2025-05-14T10:00:50.327700Z",
     "iopub.status.idle": "2025-05-14T10:00:50.332101Z",
     "shell.execute_reply": "2025-05-14T10:00:50.331314Z",
     "shell.execute_reply.started": "2025-05-14T10:00:50.328439Z"
    },
    "trusted": true
   },
   "outputs": [],
   "source": [
    "# Move the model to two GPUs\n",
    "model = nn.DataParallel(model, device_ids=[0, 1])"
   ]
  },
  {
   "cell_type": "code",
   "execution_count": 744,
   "metadata": {
    "execution": {
     "iopub.execute_input": "2025-05-14T10:01:26.095936Z",
     "iopub.status.busy": "2025-05-14T10:01:26.095708Z",
     "iopub.status.idle": "2025-05-14T10:01:26.399856Z",
     "shell.execute_reply": "2025-05-14T10:01:26.398878Z",
     "shell.execute_reply.started": "2025-05-14T10:01:26.095920Z"
    },
    "trusted": true
   },
   "outputs": [],
   "source": [
    "# Clear cache\n",
    "\n",
    "import gc\n",
    "\n",
    "\n",
    "gc.collect()\n",
    "torch.cuda.empty_cache()\n",
    "torch.cuda.ipc_collect()"
   ]
  },
  {
   "cell_type": "markdown",
   "metadata": {},
   "source": [
    "Train The Standard Model"
   ]
  },
  {
   "cell_type": "code",
   "execution_count": null,
   "metadata": {
    "execution": {
     "iopub.execute_input": "2025-05-13T23:42:51.410205Z",
     "iopub.status.busy": "2025-05-13T23:42:51.409811Z",
     "iopub.status.idle": "2025-05-14T00:36:41.713412Z",
     "shell.execute_reply": "2025-05-14T00:36:41.712628Z",
     "shell.execute_reply.started": "2025-05-13T23:42:51.410171Z"
    },
    "trusted": true
   },
   "outputs": [],
   "source": [
    "# Train the model using the trainer\n",
    "num_epochs = 32\n",
    "train_model_resnet(model, train_loader, test_loader, criterion, optimizer, device, num_epochs=num_epochs)"
   ]
  },
  {
   "cell_type": "code",
   "execution_count": null,
   "metadata": {
    "execution": {
     "iopub.execute_input": "2025-05-14T00:39:51.110253Z",
     "iopub.status.busy": "2025-05-14T00:39:51.109921Z",
     "iopub.status.idle": "2025-05-14T00:46:38.441315Z",
     "shell.execute_reply": "2025-05-14T00:46:38.440563Z",
     "shell.execute_reply.started": "2025-05-14T00:39:51.110231Z"
    },
    "trusted": true
   },
   "outputs": [],
   "source": [
    "# Continue to train the model\n",
    "num_epochs = 4\n",
    "train_model_resnet(model, train_loader, test_loader, criterion, optimizer, device, num_epochs=num_epochs)"
   ]
  },
  {
   "cell_type": "markdown",
   "metadata": {},
   "source": [
    "Evaluating The model"
   ]
  },
  {
   "cell_type": "code",
   "execution_count": null,
   "metadata": {
    "execution": {
     "iopub.execute_input": "2025-05-14T08:51:04.085274Z",
     "iopub.status.busy": "2025-05-14T08:51:04.085000Z",
     "iopub.status.idle": "2025-05-14T08:51:10.953956Z",
     "shell.execute_reply": "2025-05-14T08:51:10.953258Z",
     "shell.execute_reply.started": "2025-05-14T08:51:04.085255Z"
    },
    "trusted": true
   },
   "outputs": [],
   "source": [
    "# Metrics on training set\n",
    "nn_pred, nn_true, acc_nn, prec_nn = evaluate_model_resnet(model, train_loader, device)\n",
    "acc_nn, prec_nn"
   ]
  },
  {
   "cell_type": "code",
   "execution_count": null,
   "metadata": {
    "execution": {
     "iopub.execute_input": "2025-05-14T08:51:11.217103Z",
     "iopub.status.busy": "2025-05-14T08:51:11.216935Z",
     "iopub.status.idle": "2025-05-14T08:51:11.518477Z",
     "shell.execute_reply": "2025-05-14T08:51:11.517771Z",
     "shell.execute_reply.started": "2025-05-14T08:51:11.217090Z"
    },
    "trusted": true
   },
   "outputs": [],
   "source": [
    "# Metrics on testing set\n",
    "nn_pred, nn_true, acc_nn, prec_nn = evaluate_model_resnet(model, test_loader, device)\n",
    "acc_nn, prec_nn"
   ]
  },
  {
   "cell_type": "code",
   "execution_count": 29,
   "metadata": {
    "execution": {
     "iopub.execute_input": "2025-05-14T06:48:20.209223Z",
     "iopub.status.busy": "2025-05-14T06:48:20.208579Z",
     "iopub.status.idle": "2025-05-14T06:48:20.213517Z",
     "shell.execute_reply": "2025-05-14T06:48:20.212729Z",
     "shell.execute_reply.started": "2025-05-14T06:48:20.209203Z"
    },
    "trusted": true
   },
   "outputs": [],
   "source": [
    "def torch_save_load(filepath:str, model=None, mode=\"save\", device=\"cuda\"):\n",
    "\n",
    "    if mode == \"save\":\n",
    "        if model is None:\n",
    "            raise ValueError(\"When saving a model, you cannot leave it None.\")\n",
    "        torch.save(model, filepath)\n",
    "        return model\n",
    "    elif mode == \"load\":\n",
    "        if model is not None:\n",
    "            raise ValueError(\"When loading a model, you cannot pass an initial model.\")\n",
    "        model = torch.load(filepath, weights_only=False)\n",
    "        model.to(device)\n",
    "        return model\n"
   ]
  },
  {
   "cell_type": "code",
   "execution_count": 165,
   "metadata": {
    "execution": {
     "iopub.execute_input": "2025-05-14T03:36:11.055854Z",
     "iopub.status.busy": "2025-05-14T03:36:11.055260Z",
     "iopub.status.idle": "2025-05-14T03:36:11.082779Z",
     "shell.execute_reply": "2025-05-14T03:36:11.081942Z",
     "shell.execute_reply.started": "2025-05-14T03:36:11.055831Z"
    },
    "trusted": true
   },
   "outputs": [],
   "source": [
    "_ = torch_save_load(\"./ResNetWithInterSimple_v3_2_ckpt0160.pt\", model, mode = \"save\")"
   ]
  },
  {
   "cell_type": "code",
   "execution_count": 149,
   "metadata": {
    "execution": {
     "iopub.execute_input": "2025-05-14T03:16:14.107773Z",
     "iopub.status.busy": "2025-05-14T03:16:14.107000Z",
     "iopub.status.idle": "2025-05-14T03:16:14.131286Z",
     "shell.execute_reply": "2025-05-14T03:16:14.130467Z",
     "shell.execute_reply.started": "2025-05-14T03:16:14.107740Z"
    },
    "trusted": true
   },
   "outputs": [],
   "source": [
    "# model = torch_save_load(\"./ResNetWithInterSimple_v3_2_ckpt0160.pt\", mode = \"load\")"
   ]
  },
  {
   "cell_type": "code",
   "execution_count": 395,
   "metadata": {
    "execution": {
     "iopub.execute_input": "2025-05-14T04:47:49.238986Z",
     "iopub.status.busy": "2025-05-14T04:47:49.238655Z",
     "iopub.status.idle": "2025-05-14T04:47:49.248971Z",
     "shell.execute_reply": "2025-05-14T04:47:49.247835Z",
     "shell.execute_reply.started": "2025-05-14T04:47:49.238964Z"
    },
    "trusted": true
   },
   "outputs": [],
   "source": [
    "_ = torch_save_load(\"./SimpleCNN_v3_2_ckpt0086.pt\", model, mode = \"save\")"
   ]
  },
  {
   "cell_type": "code",
   "execution_count": null,
   "metadata": {
    "trusted": true
   },
   "outputs": [],
   "source": [
    "# model = torch_save_load(\"./SimpleCNN_v3_2_ckpt0086.pt\", mode = \"load\")"
   ]
  },
  {
   "cell_type": "markdown",
   "metadata": {},
   "source": [
    "`Section - Import and Testing`"
   ]
  },
  {
   "cell_type": "code",
   "execution_count": 742,
   "metadata": {
    "execution": {
     "iopub.execute_input": "2025-05-14T10:01:02.088390Z",
     "iopub.status.busy": "2025-05-14T10:01:02.087837Z",
     "iopub.status.idle": "2025-05-14T10:01:02.099776Z",
     "shell.execute_reply": "2025-05-14T10:01:02.098852Z",
     "shell.execute_reply.started": "2025-05-14T10:01:02.088363Z"
    },
    "trusted": true
   },
   "outputs": [],
   "source": [
    "# Load the model back\n",
    "model = torch_save_load(\"./SimpleCNN_v3_2_ckpt0026.pt\", mode = \"load\")"
   ]
  },
  {
   "cell_type": "code",
   "execution_count": 300,
   "metadata": {
    "execution": {
     "iopub.execute_input": "2025-05-14T07:50:26.202272Z",
     "iopub.status.busy": "2025-05-14T07:50:26.202019Z",
     "iopub.status.idle": "2025-05-14T07:50:42.090510Z",
     "shell.execute_reply": "2025-05-14T07:50:42.089719Z",
     "shell.execute_reply.started": "2025-05-14T07:50:26.202253Z"
    },
    "trusted": true
   },
   "outputs": [],
   "source": [
    "# Load the dataset\n",
    "\n",
    "import pickle\n",
    "import requests\n",
    "import io\n",
    "\n",
    "url = \"https://huggingface.co/datasets/bh2821/soccer_pred/resolve/main/binary/processed_test_v3_2.gz.bin\"\n",
    "response = requests.get(url)\n",
    "X_valid = load(io.BytesIO(response.content), kompress=gzip)"
   ]
  },
  {
   "cell_type": "code",
   "execution_count": 38,
   "metadata": {
    "execution": {
     "iopub.execute_input": "2025-05-14T05:05:27.475154Z",
     "iopub.status.busy": "2025-05-14T05:05:27.474593Z",
     "iopub.status.idle": "2025-05-14T05:05:27.582455Z",
     "shell.execute_reply": "2025-05-14T05:05:27.581603Z",
     "shell.execute_reply.started": "2025-05-14T05:05:27.475128Z"
    },
    "trusted": true
   },
   "outputs": [],
   "source": [
    "# Clear cache\n",
    "\n",
    "import gc\n",
    "\n",
    "\n",
    "gc.collect()\n",
    "torch.cuda.empty_cache()\n",
    "torch.cuda.ipc_collect()"
   ]
  },
  {
   "cell_type": "code",
   "execution_count": 301,
   "metadata": {
    "execution": {
     "iopub.execute_input": "2025-05-14T07:50:47.836098Z",
     "iopub.status.busy": "2025-05-14T07:50:47.835851Z",
     "iopub.status.idle": "2025-05-14T07:50:48.533124Z",
     "shell.execute_reply": "2025-05-14T07:50:48.532355Z",
     "shell.execute_reply.started": "2025-05-14T07:50:47.836078Z"
    },
    "trusted": true
   },
   "outputs": [],
   "source": [
    "# Create a feature tensor\n",
    "X_valid_tensor = torch.tensor(X_valid[0][0], device=\"cuda:1\", dtype=torch.float32)"
   ]
  },
  {
   "cell_type": "code",
   "execution_count": 308,
   "metadata": {
    "execution": {
     "iopub.execute_input": "2025-05-14T07:52:25.438547Z",
     "iopub.status.busy": "2025-05-14T07:52:25.437856Z",
     "iopub.status.idle": "2025-05-14T07:52:28.865111Z",
     "shell.execute_reply": "2025-05-14T07:52:28.864380Z",
     "shell.execute_reply.started": "2025-05-14T07:52:25.438523Z"
    },
    "trusted": true
   },
   "outputs": [],
   "source": [
    "# Predict by the model\n",
    "y_subm_ts = torch.randint(0, 3, (X_valid_tensor.shape[0],))\n",
    "subm_dataset = TensorDataset(X_valid_tensor, y_subm_ts)\n",
    "subm_loader = DataLoader(subm_dataset, batch_size=256, shuffle=False)\n",
    "nn_pred, acc_nn, f1_nn, auc_nn = evaluate_model_resnet(model, subm_loader, \"cuda\")\n"
   ]
  },
  {
   "cell_type": "code",
   "execution_count": 304,
   "metadata": {
    "execution": {
     "iopub.execute_input": "2025-05-14T07:51:05.700733Z",
     "iopub.status.busy": "2025-05-14T07:51:05.700490Z",
     "iopub.status.idle": "2025-05-14T07:51:05.705172Z",
     "shell.execute_reply": "2025-05-14T07:51:05.704406Z",
     "shell.execute_reply.started": "2025-05-14T07:51:05.700715Z"
    },
    "trusted": true
   },
   "outputs": [],
   "source": [
    "# Reconstruct a dataframe\n",
    "def reconstruct_df_v3_2(data):\n",
    "    nn_pred_onehot = torch.nn.functional.one_hot(torch.tensor(data), num_classes=3)\n",
    "    adf = pd.DataFrame(np.array(nn_pred_onehot))\n",
    "    adf.index = range(12303, 37671)\n",
    "    adf[\"ID\"] = range(12303, 37671)\n",
    "    adf.columns = [\"DRAW\", \"HOME_WINS\", \"AWAY_WINS\",  \"ID\"]\n",
    "    adf = adf[[\"ID\", \"HOME_WINS\", \"DRAW\", \"AWAY_WINS\"]]\n",
    "    return adf"
   ]
  },
  {
   "cell_type": "code",
   "execution_count": null,
   "metadata": {
    "execution": {
     "iopub.execute_input": "2025-05-14T07:52:31.255697Z",
     "iopub.status.busy": "2025-05-14T07:52:31.255455Z",
     "iopub.status.idle": "2025-05-14T07:52:31.275544Z",
     "shell.execute_reply": "2025-05-14T07:52:31.274960Z",
     "shell.execute_reply.started": "2025-05-14T07:52:31.255680Z"
    },
    "trusted": true
   },
   "outputs": [],
   "source": [
    "subm_df = reconstruct_df_v3_2(nn_pred)\n",
    "subm_df"
   ]
  },
  {
   "cell_type": "code",
   "execution_count": 310,
   "metadata": {
    "execution": {
     "iopub.execute_input": "2025-05-14T07:52:45.152466Z",
     "iopub.status.busy": "2025-05-14T07:52:45.152180Z",
     "iopub.status.idle": "2025-05-14T07:52:45.682638Z",
     "shell.execute_reply": "2025-05-14T07:52:45.681916Z",
     "shell.execute_reply.started": "2025-05-14T07:52:45.152443Z"
    },
    "trusted": true
   },
   "outputs": [
    {
     "data": {
      "text/plain": [
       "array([[<Axes: title={'center': 'ID'}>,\n",
       "        <Axes: title={'center': 'HOME_WINS'}>],\n",
       "       [<Axes: title={'center': 'DRAW'}>,\n",
       "        <Axes: title={'center': 'AWAY_WINS'}>]], dtype=object)"
      ]
     },
     "execution_count": 310,
     "metadata": {},
     "output_type": "execute_result"
    },
    {
     "data": {
      "image/png": "[encoded data removed]",
      "text/plain": [
       "<Figure size 640x480 with 4 Axes>"
      ]
     },
     "metadata": {},
     "output_type": "display_data"
    }
   ],
   "source": [
    "subm_df.hist()"
   ]
  },
  {
   "cell_type": "code",
   "execution_count": 311,
   "metadata": {
    "execution": {
     "iopub.execute_input": "2025-05-14T07:53:02.247565Z",
     "iopub.status.busy": "2025-05-14T07:53:02.247020Z",
     "iopub.status.idle": "2025-05-14T07:53:02.281820Z",
     "shell.execute_reply": "2025-05-14T07:53:02.281275Z",
     "shell.execute_reply.started": "2025-05-14T07:53:02.247539Z"
    },
    "trusted": true
   },
   "outputs": [],
   "source": [
    "# Save the df\n",
    "subm_df.to_csv(\"SimpleCNN_retrain2_ckpt39_subm.csv\", index=False)"
   ]
  }
 ],
 "metadata": {
  "kaggle": {
   "accelerator": "nvidiaTeslaT4",
   "dataSources": [],
   "dockerImageVersionId": 31041,
   "isGpuEnabled": true,
   "isInternetEnabled": true,
   "language": "python",
   "sourceType": "notebook"
  },
  "kernelspec": {
   "display_name": "Python 3",
   "language": "python",
   "name": "python3"
  },
  "language_info": {
   "codemirror_mode": {
    "name": "ipython",
    "version": 3
   },
   "file_extension": ".py",
   "mimetype": "text/x-python",
   "name": "python",
   "nbconvert_exporter": "python",
   "pygments_lexer": "ipython3",
   "version": "3.11.11"
  }
 },
 "nbformat": 4,
 "nbformat_minor": 4
}
